{
 "cells": [
  {
   "cell_type": "markdown",
   "metadata": {},
   "source": [
    "## Criação de dicionários com notas dos usuários e filmes para desenvolvimento do sistema de recomendação do zero, sem utilização de API já estabelecida.\n",
    "\n"
   ]
  },
  {
   "cell_type": "code",
   "execution_count": 6,
   "metadata": {},
   "outputs": [],
   "source": [
    "avaliacoesUsuario = {'Ana': \n",
    "        {'Freddy x Jason': 2.5, \n",
    "        'O Ultimato Bourne': 3.5,\n",
    "         'Star Trek': 3.0, \n",
    "        'Exterminador do Futuro': 3.5, \n",
    "         'Norbit': 2.5, \n",
    "         'Star Wars': 3.0},\n",
    "        'Marcos': \n",
    "        {'Freddy x Jason': 3.0, \n",
    "         'O Ultimato Bourne': 3.5, \n",
    "        'Star Trek': 1.5, \n",
    "         'Exterminador do Futuro': 5.0, \n",
    "        'Star Wars': 3.0, \n",
    "         'Norbit': 3.5}, \n",
    "\n",
    "        'Pedro': \n",
    "        {'Freddy x Jason': 2.5, \n",
    "         'O Ultimato Bourne': 3.0,\n",
    "        'Exterminador do Futuro': 3.5, \n",
    "         'Star Wars': 4.0},\n",
    "                     \n",
    "        'Claudia': \n",
    "        {'O Ultimato Bourne': 3.5, \n",
    "         'Star Trek': 3.0,\n",
    "        'Star Wars': 4.5, \n",
    "         'Exterminador do Futuro': 4.0, \n",
    "        'Norbit': 2.5},\n",
    "        'Adriano': \n",
    "        {'Freddy x Jason': 3.0, \n",
    "         'O Ultimato Bourne': 4.0, \n",
    "        'Star Trek': 2.0, \n",
    "         'Exterminador do Futuro': 3.0, \n",
    "        'Star Wars': 3.0,\n",
    "         'Norbit': 2.0}, \n",
    "        'Janaina': \n",
    "        {'Freddy x Jason': 3.0, \n",
    "        'O Ultimato Bourne': 4.0,\n",
    "        'Star Wars': 3.0, \n",
    "        'Exterminador do Futuro': 5.0, \n",
    "        'Norbit': 3.5},  \n",
    "        'Leonardo': \n",
    "        {'O Ultimato Bourne':4.5,\n",
    "        'Exterminador do Futuro':4.0}\n",
    "}"
   ]
  },
  {
   "cell_type": "markdown",
   "metadata": {},
   "source": [
    "Dicionário de avaliações por item, contemplando os Scores dos usuários"
   ]
  },
  {
   "cell_type": "code",
   "execution_count": 7,
   "metadata": {},
   "outputs": [],
   "source": [
    "avaliacoesFilme = {'Freddy x Jason': \n",
    "        {'Ana': 2.5, \n",
    "         'Marcos:': 3.0 ,\n",
    "        'Pedro': 2.5, \n",
    "        'Adriano': 3.0, \n",
    "         'Janaina': 3.0 },\n",
    "\n",
    "        'O Ultimato Bourne': \n",
    "        {'Ana': 3.5, \n",
    "         'Marcos': 3.5,\n",
    "        'Pedro': 3.0, \n",
    "         'Claudia': 3.5, \n",
    "        'Adriano': 4.0, \n",
    "         'Janaina': 4.0,\n",
    "        'Leonardo': 4.5 },\n",
    "        'Star Trek': \n",
    "        {'Ana': 3.0, \n",
    "         'Marcos:': 1.5,\n",
    "        'Claudia': 3.0, \n",
    "         'Adriano': 2.0 },\n",
    "    \n",
    "        'Exterminador do Futuro': \n",
    "        {'Ana': 3.5, \n",
    "         'Marcos:': 5.0 ,\n",
    "        'Pedro': 3.5, \n",
    "         'Claudia': 4.0, \n",
    "        'Adriano': 3.0, \n",
    "         'Janaina': 5.0,\n",
    "        'Leonardo': 4.0},\n",
    " \n",
    "        'Norbit': \n",
    "        {'Ana': 2.5, \n",
    "        'Marcos:': 3.0 ,\n",
    "        'Claudia': 2.5, \n",
    "        'Adriano': 2.0, \n",
    "        'Janaina': 3.5,\n",
    "        'Leonardo': 1.0},\n",
    "         \n",
    "        'Star Wars': \n",
    "        {'Ana': 3.0, \n",
    "        'Marcos:': 3.5,\n",
    "        'Pedro': 4.0, \n",
    "        'Claudia': 4.5, \n",
    "        'Adriano': 3.0, \n",
    "        'Janaina': 3.0}\n",
    "}"
   ]
  },
  {
   "cell_type": "markdown",
   "metadata": {},
   "source": [
    "Importação da Biblioteca math para utilização da função sqrt"
   ]
  },
  {
   "cell_type": "code",
   "execution_count": 43,
   "metadata": {},
   "outputs": [],
   "source": [
    "from math import sqrt"
   ]
  },
  {
   "cell_type": "markdown",
   "metadata": {},
   "source": [
    "Em matemática, distância euclidiana (ou distância métrica) é a distância entre dois pontos, \n",
    "que pode ser provada pela aplicação repetida do teorema de Pitágoras"
   ]
  },
  {
   "cell_type": "code",
   "execution_count": 44,
   "metadata": {},
   "outputs": [],
   "source": [
    "def euclidiana(base, usuario1, usuario2):\n",
    "    si = {}\n",
    "    for item in base[usuario1]:\n",
    "       if item in base[usuario2]: si[item] = 1\n",
    "\n",
    "    if len(si) == 0: return 0\n",
    "\n",
    "    soma = sum([pow(base[usuario1][item] - base[usuario2][item], 2)\n",
    "                for item in base[usuario1] if item in base[usuario2]])\n",
    "    return 1/(1 + sqrt(soma))\n"
   ]
  },
  {
   "cell_type": "markdown",
   "metadata": {},
   "source": [
    "Função para agrupar as similaridades dos usuários, contemplando IFs para impedir que o mesmo usuário seja avaliado novamente"
   ]
  },
  {
   "cell_type": "code",
   "execution_count": 29,
   "metadata": {},
   "outputs": [],
   "source": [
    "def getSimilares(base, usuario):\n",
    "    similaridade = [(euclidiana(base, usuario, outro), outro)\n",
    "                    for outro in base if outro != usuario]\n",
    "    similaridade.sort()\n",
    "    similaridade.reverse()\n",
    "    return similaridade[0:30]"
   ]
  },
  {
   "cell_type": "code",
   "execution_count": 45,
   "metadata": {},
   "outputs": [],
   "source": [
    "def getRecomendacoesUsuario(base, usuario):\n",
    "    totais={}\n",
    "    somaSimilaridade={}\n",
    "    for outro in base:\n",
    "        if outro == usuario: continue\n",
    "        similaridade = euclidiana(base, usuario, outro)\n",
    "\n",
    "        if similaridade <= 0: continue\n",
    "\n",
    "        for item in base[outro]:\n",
    "            if item not in base[usuario]:\n",
    "                totais.setdefault(item, 0)\n",
    "                totais[item] += base[outro][item] * similaridade\n",
    "                somaSimilaridade.setdefault(item, 0)\n",
    "                somaSimilaridade[item] += similaridade\n",
    "    rankings=[(total / somaSimilaridade[item], item) for item, total in totais.items()]\n",
    "    rankings.sort()\n",
    "    rankings.reverse()\n",
    "    return rankings[0:30]"
   ]
  },
  {
   "cell_type": "markdown",
   "metadata": {},
   "source": [
    "Utilizado o conjunto de dados MovieLens do Projeto de Pesquisa GroupLens na Universidade de Minnesota.\n",
    " Este conjunto de dados consiste em:\n",
    "* 100.000 avaliações (1-5) de 943 usuários em 1682 filmes.\n",
    "* Cada usuário classificou pelo menos 20 filmes.\n",
    "Os dados foram coletados através do site da MovieLens\n",
    "(movielens.umn.edu) durante o período de sete meses a partir de 19 de setembro,\n",
    "1997 até 22 de abril de 1998. Esses dados foram limpos - usuários\n",
    "que tinha menos de 20 classificações ou não tinha demografia completa\n",
    "informações foram removidas deste conjunto de dados. Descrições detalhadas de\n",
    "o arquivo de dados pode ser encontrado no final deste arquivo."
   ]
  },
  {
   "cell_type": "code",
   "execution_count": 31,
   "metadata": {},
   "outputs": [],
   "source": [
    "def carregaMovieLens(path='C:/Users/gs70/UDEMY/Recomendacao Jones'):\n",
    "    filmes = {}\n",
    "    for linha in open(path + '/u.item'):\n",
    "        (id, titulo) = linha.split('|')[0:2]\n",
    "        filmes[id] = titulo\n",
    "    # print(filmes)\n",
    "\n",
    "    base = {}\n",
    "    for linha in open(path + '/u.data'):\n",
    "        (usuario, idfilme, nota, tempo) = linha.split('\\t')\n",
    "        base.setdefault(usuario, {})\n",
    "        base[usuario][filmes[idfilme]] = float(nota)\n",
    "    return base            "
   ]
  },
  {
   "cell_type": "code",
   "execution_count": 32,
   "metadata": {},
   "outputs": [],
   "source": [
    "def calculaItensSimilares(base):\n",
    "    result = {}\n",
    "    for item in base:\n",
    "        notas = getSimilares(base, item)\n",
    "        result[item] = notas\n",
    "    return result"
   ]
  },
  {
   "cell_type": "code",
   "execution_count": 46,
   "metadata": {},
   "outputs": [],
   "source": [
    "def getRecomendacoesItens(baseUsuario, similaridadeItens, usuario):\n",
    "    notasUsuario = baseUsuario[usuario]\n",
    "    notas={}\n",
    "    totalSimilaridade={}\n",
    "    for (item, nota) in notasUsuario.items():\n",
    "        for (similaridade, item2) in similaridadeItens[item]:\n",
    "            if item2 in notasUsuario: continue\n",
    "            notas.setdefault(item2, 0)\n",
    "            notas[item2] += similaridade * nota\n",
    "            totalSimilaridade.setdefault(item2,0)\n",
    "            totalSimilaridade[item2] += similaridade\n",
    "    rankings=[(score/totalSimilaridade[item], item) for item, score in notas.items()]\n",
    "    rankings.sort()\n",
    "    rankings.reverse()\n",
    "    return rankings"
   ]
  },
  {
   "cell_type": "code",
   "execution_count": 35,
   "metadata": {},
   "outputs": [
    {
     "data": {
      "text/plain": [
       "[(3.418471702396272, 'Star Wars'),\n",
       " (2.8062345567968117, 'Freddy x Jason'),\n",
       " (2.7790163740175453, 'Norbit'),\n",
       " (2.4116411912741587, 'Star Trek')]"
      ]
     },
     "execution_count": 35,
     "metadata": {},
     "output_type": "execute_result"
    }
   ],
   "source": [
    "getRecomendacoesUsuario(avaliacoesUsuario, 'Leonardo')"
   ]
  },
  {
   "cell_type": "code",
   "execution_count": 41,
   "metadata": {},
   "outputs": [
    {
     "data": {
      "text/plain": [
       "[(2.7271986443555543, 'Norbit'), (2.4825817086405517, 'Star Trek')]"
      ]
     },
     "execution_count": 41,
     "metadata": {},
     "output_type": "execute_result"
    }
   ],
   "source": [
    "getRecomendacoesUsuario(avaliacoesUsuario, 'Pedro')"
   ]
  },
  {
   "cell_type": "markdown",
   "metadata": {},
   "source": [
    "Lista de dados que estaria pré-armazenada (calculada) para disparar recomendações com tempo satisfatório aos usuários"
   ]
  },
  {
   "cell_type": "code",
   "execution_count": 40,
   "metadata": {},
   "outputs": [],
   "source": [
    "listaitens = calculaItensSimilares(avaliacoesFilme)"
   ]
  },
  {
   "cell_type": "code",
   "execution_count": 42,
   "metadata": {},
   "outputs": [
    {
     "data": {
      "text/plain": [
       "[(4.3031757536216695, 'Star Trek'),\n",
       " (4.2987972584088565, 'Freddy x Jason'),\n",
       " (4.271774713337376, 'Star Wars'),\n",
       " (4.25267605996656, 'Norbit')]"
      ]
     },
     "execution_count": 42,
     "metadata": {},
     "output_type": "execute_result"
    }
   ],
   "source": [
    "getRecomendacoesItens(avaliacoesUsuario, listaitens,'Leonardo')"
   ]
  },
  {
   "cell_type": "markdown",
   "metadata": {},
   "source": [
    "Verificando as recomendações por usuários e itens.\n",
    "Definido threshold de 30 filmes do ranking.\n",
    "Escolhido aleatóriamente o usuário 200 para listar os usuário similares"
   ]
  },
  {
   "cell_type": "code",
   "execution_count": 48,
   "metadata": {},
   "outputs": [],
   "source": [
    "base = carregaMovieLens()"
   ]
  },
  {
   "cell_type": "code",
   "execution_count": 49,
   "metadata": {},
   "outputs": [
    {
     "data": {
      "text/plain": [
       "[(1.0, '688'),\n",
       " (0.5, '856'),\n",
       " (0.5, '775'),\n",
       " (0.5, '762'),\n",
       " (0.5, '558'),\n",
       " (0.5, '384'),\n",
       " (0.4142135623730951, '845'),\n",
       " (0.4142135623730951, '818'),\n",
       " (0.4142135623730951, '809'),\n",
       " (0.4142135623730951, '36'),\n",
       " (0.4142135623730951, '355'),\n",
       " (0.4142135623730951, '179'),\n",
       " (0.4142135623730951, '147'),\n",
       " (0.4142135623730951, '111'),\n",
       " (0.36602540378443865, '909'),\n",
       " (0.36602540378443865, '9'),\n",
       " (0.36602540378443865, '858'),\n",
       " (0.36602540378443865, '855'),\n",
       " (0.36602540378443865, '740'),\n",
       " (0.36602540378443865, '701'),\n",
       " (0.36602540378443865, '675'),\n",
       " (0.36602540378443865, '616'),\n",
       " (0.36602540378443865, '520'),\n",
       " (0.36602540378443865, '390'),\n",
       " (0.36602540378443865, '33'),\n",
       " (0.36602540378443865, '241'),\n",
       " (0.36602540378443865, '131'),\n",
       " (0.36602540378443865, '105'),\n",
       " (0.3333333333333333, '888'),\n",
       " (0.3333333333333333, '784')]"
      ]
     },
     "execution_count": 49,
     "metadata": {},
     "output_type": "execute_result"
    }
   ],
   "source": [
    "getSimilares(base, '200')"
   ]
  },
  {
   "cell_type": "code",
   "execution_count": null,
   "metadata": {},
   "outputs": [],
   "source": []
  }
 ],
 "metadata": {
  "kernelspec": {
   "display_name": "Python 3",
   "language": "python",
   "name": "python3"
  },
  "language_info": {
   "codemirror_mode": {
    "name": "ipython",
    "version": 3
   },
   "file_extension": ".py",
   "mimetype": "text/x-python",
   "name": "python",
   "nbconvert_exporter": "python",
   "pygments_lexer": "ipython3",
   "version": "3.6.5"
  }
 },
 "nbformat": 4,
 "nbformat_minor": 2
}
